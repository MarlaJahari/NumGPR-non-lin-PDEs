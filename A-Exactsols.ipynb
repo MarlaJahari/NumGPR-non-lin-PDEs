{
 "cells": [
  {
   "cell_type": "code",
   "execution_count": null,
   "id": "eb8a7dcd",
   "metadata": {},
   "outputs": [],
   "source": [
    "def Exact_solution(t, x):\n",
    "    f = (1/2)*np.sin(np.pi*x)*np.cos(np.pi*t) + (1/3)*np.sin(3*np.pi*x)*np.sin(3*np.pi*t)\n",
    "    return f\n",
    "\n",
    "def Exact_solution_derivative(t, x):\n",
    "    f = (-1/2)*np.pi*np.sin(np.pi*t)*np.sin(np.pi*x) + np.pi*np.cos(3*np.pi*t)*np.sin(3*np.pi*x)\n",
    "    return f\n",
    "\n"
   ]
  }
 ],
 "metadata": {
  "kernelspec": {
   "display_name": "Python 3 (ipykernel)",
   "language": "python",
   "name": "python3"
  },
  "language_info": {
   "codemirror_mode": {
    "name": "ipython",
    "version": 3
   },
   "file_extension": ".py",
   "mimetype": "text/x-python",
   "name": "python",
   "nbconvert_exporter": "python",
   "pygments_lexer": "ipython3",
   "version": "3.9.15"
  }
 },
 "nbformat": 4,
 "nbformat_minor": 5
}
