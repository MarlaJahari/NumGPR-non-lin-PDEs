{
 "cells": [
  {
   "cell_type": "code",
   "execution_count": null,
   "id": "9a46c253",
   "metadata": {},
   "outputs": [],
   "source": [
    "def predictor(x_star_u, x_star_v,ModelInfo):\n",
    "    \n",
    "    x_b = ModelInfo['x_b']\n",
    "    x_u = ModelInfo['x_u']\n",
    "    x_v = ModelInfo['x_v']\n",
    "    \n",
    "    u_b = ModelInfo['u_b']\n",
    "    u = ModelInfo['u']\n",
    "    v = ModelInfo['v']\n",
    "    \n",
    "    y = np.concatenate((u_b, u, v))\n",
    "    \n",
    "    N_b = len(u_b)\n",
    "    N_u = len(u)\n",
    "    N_v = len(v)\n",
    "    \n",
    "    S0 = ModelInfo['S0']\n",
    "    \n",
    "    S = np.block([[np.zeros((N_b, N_b)), np.zeros((N_b, N_u + N_v))],\n",
    "                  [np.zeros((N_u + N_v, N_b)), S0]])\n",
    "    \n",
    "    hyp = ModelInfo['hyp']\n",
    "    \n",
    "    K_nn_uu = k_nn_uu(x_star_u, x_b, hyp[:-2], 0,ModelInfo)\n",
    "    K_nn1_uu = k_nn1_uu(x_star_u, x_u, hyp[:-2], 0,ModelInfo)\n",
    "    K_nn1_uv = k_nn1_uv(x_star_u, x_v, hyp[:-2], 0,ModelInfo)\n",
    "    \n",
    "    K_nn_vu = k_nn_uv(x_b, x_star_v, hyp[:-2], 0,ModelInfo).T\n",
    "    K_nn1_vu = k_nn1_vu(x_star_v, x_u, hyp[:-2], 0,ModelInfo)\n",
    "    K_nn1_vv = k_nn1_vv(x_star_v, x_v, hyp[:-2], 0,ModelInfo)\n",
    "    \n",
    "    psi = np.block([[K_nn_uu, K_nn1_uu, K_nn1_uv],\n",
    "                    [K_nn_vu, K_nn1_vu, K_nn1_vv]])\n",
    "    \n",
    "    V_nn_uu = k_nn_uu(x_star_u, x_star_u, hyp[:-2], 0,ModelInfo)\n",
    "    V_nn_uv = k_nn_uv(x_star_u, x_star_v, hyp[:-2], 0,ModelInfo)\n",
    "    V_vv_vv = k_nn_vv(x_star_v, x_star_v, hyp[:-2], 0,ModelInfo)\n",
    "    \n",
    "    VV = np.block([[V_nn_uu, V_nn_uv],\n",
    "                   [V_nn_uv.T, V_vv_vv]])\n",
    "    \n",
    "    L = ModelInfo['L']\n",
    "    \n",
    "    f = np.dot(psi, np.linalg.solve(L.T, np.linalg.solve(L, y)))\n",
    "\n",
    "    alpha = np.linalg.solve(L.T, np.linalg.solve(L, psi.T))\n",
    "\n",
    "    v = VV - np.dot(psi, alpha) + np.dot(alpha.T, np.dot(S, alpha))\n",
    "    \n",
    "    return f, v\n"
   ]
  }
 ],
 "metadata": {
  "kernelspec": {
   "display_name": "Python 3 (ipykernel)",
   "language": "python",
   "name": "python3"
  },
  "language_info": {
   "codemirror_mode": {
    "name": "ipython",
    "version": 3
   },
   "file_extension": ".py",
   "mimetype": "text/x-python",
   "name": "python",
   "nbconvert_exporter": "python",
   "pygments_lexer": "ipython3",
   "version": "3.9.15"
  }
 },
 "nbformat": 4,
 "nbformat_minor": 5
}
