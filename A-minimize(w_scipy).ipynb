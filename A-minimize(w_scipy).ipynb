{
 "cells": [
  {
   "cell_type": "code",
   "execution_count": null,
   "id": "488e8daa",
   "metadata": {},
   "outputs": [],
   "source": [
    "from scipy.optimize import fmin_cg\n",
    "from scipy.optimize import minimize as scipy_minimize\n",
    "\n",
    "def minimize3(X, f, length, *args):\n",
    "    def objective(x, *args):\n",
    "        return f(x, *args)[0]\n",
    "\n",
    "    def gradient(x, *args):\n",
    "        return f(x, *args)[1]\n",
    "\n",
    "    result = scipy_minimize(objective, X, args=args, method='CG', jac=gradient,\n",
    "                            options={'maxiter': abs(5000)})\n",
    "    X = result.x\n",
    "    fX = result.fun\n",
    "    i = result.nit\n",
    "\n",
    "    return X, fX, i\n"
   ]
  }
 ],
 "metadata": {
  "kernelspec": {
   "display_name": "Python 3 (ipykernel)",
   "language": "python",
   "name": "python3"
  },
  "language_info": {
   "codemirror_mode": {
    "name": "ipython",
    "version": 3
   },
   "file_extension": ".py",
   "mimetype": "text/x-python",
   "name": "python",
   "nbconvert_exporter": "python",
   "pygments_lexer": "ipython3",
   "version": "3.9.15"
  }
 },
 "nbformat": 4,
 "nbformat_minor": 5
}
